{
 "cells": [
  {
   "cell_type": "code",
   "execution_count": 77,
   "metadata": {},
   "outputs": [],
   "source": [
    "import json\n",
    "from datetime import datetime"
   ]
  },
  {
   "cell_type": "markdown",
   "metadata": {},
   "source": [
    "# Entites and Accounts"
   ]
  },
  {
   "cell_type": "markdown",
   "metadata": {},
   "source": []
  },
  {
   "cell_type": "code",
   "execution_count": 46,
   "metadata": {},
   "outputs": [],
   "source": [
    "\n",
    "\n",
    "entites_json = \\\n",
    "'''\n",
    "{\n",
    "    \"Account_IDs\": [\"12345-6789\", \"23456-7891\", \"3489728\"],\n",
    "    \"FIs_to_Accts\": {\n",
    "        \"Dummy_Bank\": [\"12345-6789\", \"23456-7891\"],\n",
    "        \"Bank of Anan\": [\"3489728\"]\n",
    "    },\n",
    "    \"Customers_to_Accts\": {\n",
    "        \"John Doe\": [\"12345-6789\"],\n",
    "        \"Acme, Inc.\": [\"23456-7891\"],\n",
    "        \"Kulkutta Building Supply Company\": [\"3489728\"]\n",
    "    }\n",
    "}\n",
    "'''\n",
    "\n",
    "\n"
   ]
  },
  {
   "cell_type": "code",
   "execution_count": 47,
   "metadata": {},
   "outputs": [],
   "source": [
    "entities_dict = json.loads(entites_json)\n"
   ]
  },
  {
   "cell_type": "code",
   "execution_count": 48,
   "metadata": {},
   "outputs": [
    {
     "data": {
      "text/plain": [
       "{'Account_IDs': ['12345-6789', '23456-7891', '3489728'],\n",
       " 'FIs_to_Accts': {'Dummy_Bank': ['12345-6789', '23456-7891'],\n",
       "  'Bank of Anan': ['3489728']},\n",
       " 'Customers_to_Accts': {'John Doe': ['12345-6789'],\n",
       "  'Acme, Inc.': ['23456-7891'],\n",
       "  'Kulkutta Building Supply Company': ['3489728']}}"
      ]
     },
     "execution_count": 48,
     "metadata": {},
     "output_type": "execute_result"
    }
   ],
   "source": [
    "entities_dict"
   ]
  },
  {
   "cell_type": "code",
   "execution_count": 66,
   "metadata": {},
   "outputs": [
    {
     "data": {
      "text/plain": [
       "['12345-6789', '23456-7891', '3489728']"
      ]
     },
     "execution_count": 66,
     "metadata": {},
     "output_type": "execute_result"
    }
   ],
   "source": [
    "acct_ids = entities_dict[\"Account_IDs\"]\n",
    "acct_ids"
   ]
  },
  {
   "cell_type": "code",
   "execution_count": 91,
   "metadata": {},
   "outputs": [
    {
     "data": {
      "text/plain": [
       "(['Dummy_Bank', 'Bank of Anan'],\n",
       " ['John Doe', 'Acme, Inc.', 'Kulkutta Building Supply Company'])"
      ]
     },
     "execution_count": 91,
     "metadata": {},
     "output_type": "execute_result"
    }
   ],
   "source": [
    "\n",
    "FIs = list(entities_dict['FIs_to_Accts'].keys())\n",
    "customers = list(entities_dict['Customers_to_Accts'].keys())\n",
    "FIs,customers"
   ]
  },
  {
   "cell_type": "markdown",
   "metadata": {},
   "source": [
    "# Resolved Entities"
   ]
  },
  {
   "cell_type": "code",
   "execution_count": 39,
   "metadata": {},
   "outputs": [],
   "source": [
    "resolved_entites_json = \\\n",
    "'''\n",
    "{\n",
    "    \"FI_to_Cust_to_Acct\": {\n",
    "        \"Dummy_Bank\": {\n",
    "            \"CUST_001\": [\"12345-6789\", \"23456-7891\"]\n",
    "        },\n",
    "        \"Bank of Anan\": {\n",
    "            \"CUST_002\": [\"3489728\"]\n",
    "        }\n",
    "    }\n",
    "}\n",
    "'''"
   ]
  },
  {
   "cell_type": "code",
   "execution_count": 40,
   "metadata": {},
   "outputs": [],
   "source": [
    "resolved_entities_dict = json.loads(resolved_entites_json)"
   ]
  },
  {
   "cell_type": "code",
   "execution_count": 41,
   "metadata": {},
   "outputs": [
    {
     "data": {
      "text/plain": [
       "{'FI_to_Cust_to_Acct': {'Dummy_Bank': {'CUST_001': ['12345-6789',\n",
       "    '23456-7891']},\n",
       "  'Bank of Anan': {'CUST_002': ['3489728']}}}"
      ]
     },
     "execution_count": 41,
     "metadata": {},
     "output_type": "execute_result"
    }
   ],
   "source": [
    "resolved_entities_dict"
   ]
  },
  {
   "cell_type": "code",
   "execution_count": 52,
   "metadata": {},
   "outputs": [
    {
     "data": {
      "text/plain": [
       "{'Dummy_Bank': {'CUST_001': ['12345-6789', '23456-7891']},\n",
       " 'Bank of Anan': {'CUST_002': ['3489728']}}"
      ]
     },
     "execution_count": 52,
     "metadata": {},
     "output_type": "execute_result"
    }
   ],
   "source": [
    "resolved_entities_dict['FI_to_Cust_to_Acct']"
   ]
  },
  {
   "cell_type": "code",
   "execution_count": 93,
   "metadata": {},
   "outputs": [
    {
     "data": {
      "text/plain": [
       "2"
      ]
     },
     "execution_count": 93,
     "metadata": {},
     "output_type": "execute_result"
    }
   ],
   "source": [
    "N_resolved_FIs = len(resolved_entities_dict['FI_to_Cust_to_Acct'])\n",
    "N_resolved_FIs"
   ]
  },
  {
   "cell_type": "code",
   "execution_count": 64,
   "metadata": {},
   "outputs": [],
   "source": [
    "\n",
    "acct_to_FI = {}\n",
    "for FI,Cust_to_Acct in resolved_entities_dict['FI_to_Cust_to_Acct'].items():\n",
    "    for cust,accts in Cust_to_Acct.items():\n",
    "        for acct in accts:\n",
    "            acct_to_FI[acct] = FI\n",
    "\n",
    "        \n"
   ]
  },
  {
   "cell_type": "code",
   "execution_count": 65,
   "metadata": {},
   "outputs": [
    {
     "data": {
      "text/plain": [
       "{'12345-6789': 'Dummy_Bank',\n",
       " '23456-7891': 'Dummy_Bank',\n",
       " '3489728': 'Bank of Anan'}"
      ]
     },
     "execution_count": 65,
     "metadata": {},
     "output_type": "execute_result"
    }
   ],
   "source": [
    "acct_to_FI"
   ]
  },
  {
   "cell_type": "markdown",
   "metadata": {},
   "source": [
    "# Trxns"
   ]
  },
  {
   "cell_type": "code",
   "execution_count": 32,
   "metadata": {},
   "outputs": [],
   "source": [
    "trxns_json = \\\n",
    "'''\n",
    "{\n",
    "\"3489728\": {\n",
    "                \"Trxn_1\": {\n",
    "                \"Originator_Name\": \"John Doe\",\n",
    "                \"Originator_Account_ID\": \"12345-6789\",\n",
    "                \"Originator_Customer_ID\": \"CUST_001\",\n",
    "                \"Beneficiary_Name\": \"Kulkutta Building Supply Company\",\n",
    "                \"Beneficiary_Account_ID\": \"3489728\",\n",
    "                \"Beneficiary_Customer_ID\": \"CUST_002\",\n",
    "                \"Trxn_Channel\": \"Wire\",\n",
    "                \"Trxn_Date\": \"2003-01-19\",\n",
    "                \"Trxn_Amount\": 25000,\n",
    "                \"Location\": \"Missing\"\n",
    "                },\n",
    "                \"Trxn_2\": {\n",
    "                \"Originator_Name\": \"John Doe\",\n",
    "                \"Originator_Account_ID\": \"12345-6789\",\n",
    "                \"Originator_Customer_ID\": \"CUST_001\",\n",
    "                \"Beneficiary_Name\": \"Kulkutta Building Supply Company\",\n",
    "                \"Beneficiary_Account_ID\": \"3489728\",\n",
    "                \"Beneficiary_Customer_ID\": \"CUST_002\",\n",
    "                \"Trxn_Channel\": \"Wire\",\n",
    "                \"Trxn_Date\": \"2003-01-26\",\n",
    "                \"Trxn_Amount\": 25000,\n",
    "                \"Location\": \"Missing\"\n",
    "                }\n",
    "           }\n",
    "}\n",
    "'''"
   ]
  },
  {
   "cell_type": "code",
   "execution_count": 33,
   "metadata": {},
   "outputs": [],
   "source": [
    "\n",
    "\n",
    "trxns_dict = json.loads(trxns_json)"
   ]
  },
  {
   "cell_type": "code",
   "execution_count": 34,
   "metadata": {},
   "outputs": [
    {
     "data": {
      "text/plain": [
       "{'3489728': {'Trxn_1': {'Originator_Name': 'John Doe',\n",
       "   'Originator_Account_ID': '12345-6789',\n",
       "   'Originator_Customer_ID': 'CUST_001',\n",
       "   'Beneficiary_Name': 'Kulkutta Building Supply Company',\n",
       "   'Beneficiary_Account_ID': '3489728',\n",
       "   'Beneficiary_Customer_ID': 'CUST_002',\n",
       "   'Trxn_Channel': 'Wire',\n",
       "   'Trxn_Date': '2003-01-19',\n",
       "   'Trxn_Amount': 25000,\n",
       "   'Location': 'Missing'},\n",
       "  'Trxn_2': {'Originator_Name': 'John Doe',\n",
       "   'Originator_Account_ID': '12345-6789',\n",
       "   'Originator_Customer_ID': 'CUST_001',\n",
       "   'Beneficiary_Name': 'Kulkutta Building Supply Company',\n",
       "   'Beneficiary_Account_ID': '3489728',\n",
       "   'Beneficiary_Customer_ID': 'CUST_002',\n",
       "   'Trxn_Channel': 'Wire',\n",
       "   'Trxn_Date': '2003-01-26',\n",
       "   'Trxn_Amount': 25000,\n",
       "   'Location': 'Missing'}}}"
      ]
     },
     "execution_count": 34,
     "metadata": {},
     "output_type": "execute_result"
    }
   ],
   "source": [
    "trxns_dict"
   ]
  },
  {
   "cell_type": "code",
   "execution_count": 43,
   "metadata": {},
   "outputs": [
    {
     "data": {
      "text/html": [
       "<div>\n",
       "<style scoped>\n",
       "    .dataframe tbody tr th:only-of-type {\n",
       "        vertical-align: middle;\n",
       "    }\n",
       "\n",
       "    .dataframe tbody tr th {\n",
       "        vertical-align: top;\n",
       "    }\n",
       "\n",
       "    .dataframe thead th {\n",
       "        text-align: right;\n",
       "    }\n",
       "</style>\n",
       "<table border=\"1\" class=\"dataframe\">\n",
       "  <thead>\n",
       "    <tr style=\"text-align: right;\">\n",
       "      <th></th>\n",
       "      <th>Originator_Name</th>\n",
       "      <th>Originator_Account_ID</th>\n",
       "      <th>Originator_Customer_ID</th>\n",
       "      <th>Beneficiary_Name</th>\n",
       "      <th>Beneficiary_Account_ID</th>\n",
       "      <th>Beneficiary_Customer_ID</th>\n",
       "      <th>Trxn_Channel</th>\n",
       "      <th>Trxn_Date</th>\n",
       "      <th>Trxn_Amount</th>\n",
       "      <th>Location</th>\n",
       "    </tr>\n",
       "  </thead>\n",
       "  <tbody>\n",
       "    <tr>\n",
       "      <th>Trxn_1</th>\n",
       "      <td>John Doe</td>\n",
       "      <td>12345-6789</td>\n",
       "      <td>CUST_001</td>\n",
       "      <td>Kulkutta Building Supply Company</td>\n",
       "      <td>3489728</td>\n",
       "      <td>CUST_002</td>\n",
       "      <td>Wire</td>\n",
       "      <td>2003-01-19</td>\n",
       "      <td>25000</td>\n",
       "      <td>Missing</td>\n",
       "    </tr>\n",
       "    <tr>\n",
       "      <th>Trxn_2</th>\n",
       "      <td>John Doe</td>\n",
       "      <td>12345-6789</td>\n",
       "      <td>CUST_001</td>\n",
       "      <td>Kulkutta Building Supply Company</td>\n",
       "      <td>3489728</td>\n",
       "      <td>CUST_002</td>\n",
       "      <td>Wire</td>\n",
       "      <td>2003-01-26</td>\n",
       "      <td>25000</td>\n",
       "      <td>Missing</td>\n",
       "    </tr>\n",
       "  </tbody>\n",
       "</table>\n",
       "</div>"
      ],
      "text/plain": [
       "       Originator_Name Originator_Account_ID Originator_Customer_ID  \\\n",
       "Trxn_1        John Doe            12345-6789               CUST_001   \n",
       "Trxn_2        John Doe            12345-6789               CUST_001   \n",
       "\n",
       "                        Beneficiary_Name Beneficiary_Account_ID  \\\n",
       "Trxn_1  Kulkutta Building Supply Company                3489728   \n",
       "Trxn_2  Kulkutta Building Supply Company                3489728   \n",
       "\n",
       "       Beneficiary_Customer_ID Trxn_Channel   Trxn_Date  Trxn_Amount Location  \n",
       "Trxn_1                CUST_002         Wire  2003-01-19        25000  Missing  \n",
       "Trxn_2                CUST_002         Wire  2003-01-26        25000  Missing  "
      ]
     },
     "execution_count": 43,
     "metadata": {},
     "output_type": "execute_result"
    }
   ],
   "source": [
    "import pandas as pd\n",
    "trxns_df = pd.DataFrame.from_dict(trxns_dict['3489728'],orient='index')\n",
    "trxns_df"
   ]
  },
  {
   "cell_type": "code",
   "execution_count": 90,
   "metadata": {},
   "outputs": [
    {
     "data": {
      "text/plain": [
       "Originator_Name                    object\n",
       "Originator_Account_ID              object\n",
       "Originator_Customer_ID             object\n",
       "Beneficiary_Name                   object\n",
       "Beneficiary_Account_ID             object\n",
       "Beneficiary_Customer_ID            object\n",
       "Trxn_Channel                       object\n",
       "Trxn_Date                  datetime64[ns]\n",
       "Trxn_Amount                         int64\n",
       "Location                           object\n",
       "dtype: object"
      ]
     },
     "execution_count": 90,
     "metadata": {},
     "output_type": "execute_result"
    }
   ],
   "source": [
    "trxns_df[\"Trxn_Date\"] = pd.to_datetime(trxns_df[\"Trxn_Date\"])\n",
    "trxns_df.dtypes"
   ]
  },
  {
   "cell_type": "code",
   "execution_count": 76,
   "metadata": {},
   "outputs": [
    {
     "data": {
      "text/html": [
       "<div>\n",
       "<style scoped>\n",
       "    .dataframe tbody tr th:only-of-type {\n",
       "        vertical-align: middle;\n",
       "    }\n",
       "\n",
       "    .dataframe tbody tr th {\n",
       "        vertical-align: top;\n",
       "    }\n",
       "\n",
       "    .dataframe thead th {\n",
       "        text-align: right;\n",
       "    }\n",
       "</style>\n",
       "<table border=\"1\" class=\"dataframe\">\n",
       "  <thead>\n",
       "    <tr style=\"text-align: right;\">\n",
       "      <th></th>\n",
       "      <th>Originator_Name</th>\n",
       "      <th>Originator_Account_ID</th>\n",
       "      <th>Originator_Customer_ID</th>\n",
       "      <th>Beneficiary_Name</th>\n",
       "      <th>Beneficiary_Account_ID</th>\n",
       "      <th>Beneficiary_Customer_ID</th>\n",
       "      <th>Trxn_Channel</th>\n",
       "      <th>Trxn_Date</th>\n",
       "      <th>Trxn_Amount</th>\n",
       "      <th>Location</th>\n",
       "    </tr>\n",
       "  </thead>\n",
       "  <tbody>\n",
       "    <tr>\n",
       "      <th>Trxn_1</th>\n",
       "      <td>John Doe</td>\n",
       "      <td>12345-6789</td>\n",
       "      <td>CUST_001</td>\n",
       "      <td>Kulkutta Building Supply Company</td>\n",
       "      <td>3489728</td>\n",
       "      <td>CUST_002</td>\n",
       "      <td>Wire</td>\n",
       "      <td>2003-01-19</td>\n",
       "      <td>25000</td>\n",
       "      <td>Missing</td>\n",
       "    </tr>\n",
       "    <tr>\n",
       "      <th>Trxn_2</th>\n",
       "      <td>John Doe</td>\n",
       "      <td>12345-6789</td>\n",
       "      <td>CUST_001</td>\n",
       "      <td>Kulkutta Building Supply Company</td>\n",
       "      <td>3489728</td>\n",
       "      <td>CUST_002</td>\n",
       "      <td>Wire</td>\n",
       "      <td>2003-01-26</td>\n",
       "      <td>25000</td>\n",
       "      <td>Missing</td>\n",
       "    </tr>\n",
       "  </tbody>\n",
       "</table>\n",
       "</div>"
      ],
      "text/plain": [
       "       Originator_Name Originator_Account_ID Originator_Customer_ID  \\\n",
       "Trxn_1        John Doe            12345-6789               CUST_001   \n",
       "Trxn_2        John Doe            12345-6789               CUST_001   \n",
       "\n",
       "                        Beneficiary_Name Beneficiary_Account_ID  \\\n",
       "Trxn_1  Kulkutta Building Supply Company                3489728   \n",
       "Trxn_2  Kulkutta Building Supply Company                3489728   \n",
       "\n",
       "       Beneficiary_Customer_ID Trxn_Channel   Trxn_Date  Trxn_Amount Location  \n",
       "Trxn_1                CUST_002         Wire  2003-01-19        25000  Missing  \n",
       "Trxn_2                CUST_002         Wire  2003-01-26        25000  Missing  "
      ]
     },
     "execution_count": 76,
     "metadata": {},
     "output_type": "execute_result"
    }
   ],
   "source": [
    "trxns_df[trxns_df[\"Originator_Account_ID\"] == \"12345-6789\"]"
   ]
  },
  {
   "cell_type": "code",
   "execution_count": 129,
   "metadata": {},
   "outputs": [
    {
     "data": {
      "text/plain": [
       "['12345-6789', '12345-6789']"
      ]
     },
     "execution_count": 129,
     "metadata": {},
     "output_type": "execute_result"
    }
   ],
   "source": [
    "list(trxns_df[\"Originator_Account_ID\"] )"
   ]
  },
  {
   "cell_type": "markdown",
   "metadata": {},
   "source": [
    "# SAR 1"
   ]
  },
  {
   "cell_type": "code",
   "execution_count": 108,
   "metadata": {},
   "outputs": [],
   "source": [
    "sar1_accts = ['12345-6789', '23456-7891', '3489728']\n",
    "sar1_FIs = ['Bank of Anan']\n",
    "sar1_custs = ['John Doe', 'Acme, Inc.', 'Kulkutta Building Supply Company']\n",
    "sar1_N_resolved_FIs = 2\n",
    "sar1_N_trxns = 55\n",
    "sar1_trxns = {\n",
    "     #Originator_Acct_No,Beneficary_Acct_No, Channel, Min Total Amt,Max Total Amt, Total_Ct, Min Amt, Max Amt, Min Date, Max Date\n",
    "    \"3489728\": ('12345-6789','3489728', ['Wire'], 225000,  225000, 9 ,25000,25000,datetime(2003,1,17),datetime(2003,3,21)),\n",
    "    \"12345-6789\": ('12345-6789','12345-6789', ['Cash','Check','Money Order'],45000,50000,13,1500,9500,datetime(2003,1,2),datetime(2003,3,17)),\n",
    "    \"23456-7891\": ('23456-7891','23456-7891', ['Cash','Check','Money Order'],250000,300000,33,4400,10000,datetime(2003,1,2),datetime(2003,3,17))\n",
    "}\n"
   ]
  },
  {
   "cell_type": "markdown",
   "metadata": {},
   "source": [
    "## SAR 2"
   ]
  },
  {
   "cell_type": "code",
   "execution_count": null,
   "metadata": {},
   "outputs": [],
   "source": [
    "sar2_accts = ['1234567','Dummy_001']\n",
    "sar2_FIs = ['XYZ Bank']\n",
    "sar2_custs = [\"Doe's Auto Sales\"]\n",
    "sar2_N_resolved_FIs = 1\n",
    "sar2_N_trxns = 12\n",
    "sar2_trxns = {\n",
    "     #Originator_Acct_No,Beneficary_Acct_No, Channel, Min Total Amt,Max Total Amt, Total_Ct, Min Amt, Max Amt, Min Date, Max Date\n",
    "    \"Trxn_Set1\": ('1234567','1234567', ['Cash'],58800, 58800, 6 ,9800,9800,datetime(2002,6,3),datetime(2002,6,12)),\n",
    "    \"Trxn_Set2\": ('Dummy_001','1234567', ['Check'],58800,58800,6,9800,9800,datetime(2003,6,4),datetime(2002,6,13))\n",
    "}\n"
   ]
  },
  {
   "cell_type": "markdown",
   "metadata": {},
   "source": [
    "# SAR 3"
   ]
  },
  {
   "cell_type": "code",
   "execution_count": null,
   "metadata": {},
   "outputs": [],
   "source": [
    "sar3_accts = ['12345678910','981012345']\n",
    "sar3_FIs = ['Dummy_Bank_1','Aussie Bank']\n",
    "sar3_custs = [\"John Doe\"]\n",
    "sar3_N_resolved_FIs = 2\n",
    "sar3_N_trxns = 12\n",
    "sar3_trxns = {\n",
    "     #Originator_Acct_No,Beneficary_Acct_No, Channel, Min Total Amt,Max Total Amt, Total_Ct, Min Amt, Max Amt, Min Date, Max Date\n",
    "    \"Trxn_Set1\": ('12345678910','12345678910', ['Cash'],29650, 29650, 3 ,9700,10000,datetime(2002,3,15),datetime(2002,3,18)),\n",
    "    \"Trxn_Set2\": ('12345678910','981012345', ['Wire'],29500,29500,3,9700,9900,datetime(2003,3,16),datetime(2002,3,19))\n",
    "}\n"
   ]
  },
  {
   "cell_type": "markdown",
   "metadata": {},
   "source": [
    "# SAR 4"
   ]
  },
  {
   "cell_type": "code",
   "execution_count": null,
   "metadata": {},
   "outputs": [],
   "source": [
    "sar4_accts = ['54321098','12345678','456781234']\n",
    "sar4_FIs = ['Bank of Mainland','Bank XYZ']\n",
    "sar4_custs = [\"Sky Corporation\",\"Sea Corporation\"]\n",
    "sar4_N_resolved_FIs = 2\n",
    "sar4_N_trxns = 284+200+15+274+198\n",
    "sar4_trxns = {\n",
    "    # To be updated\n",
    "     #Originator_Acct_No,Beneficary_Acct_No, Channel, Min Total Amt,Max Total Amt, Total_Ct, Min Amt, Max Amt, Min Date, Max Date\n",
    "    \"Trxn_Set1\": ('12345678910','12345678910', ['Cash'],29650, 29650, 3 ,9700,10000,datetime(2002,3,15),datetime(2002,3,18)),\n",
    "    \"Trxn_Set2\": ('12345678910','981012345', ['Wire'],29500,29500,3,9700,9900,datetime(2003,3,16),datetime(2002,3,19))\n",
    "}"
   ]
  },
  {
   "cell_type": "code",
   "execution_count": 123,
   "metadata": {},
   "outputs": [],
   "source": [
    "extracted = (acct_ids,customers,FIs,N_resolved_FIs,trxns_df)\n",
    "expected = (sar1_accts,sar1_custs,sar1_FIs,sar1_N_resolved_FIs,sar1_N_trxns,sar1_trxns)"
   ]
  },
  {
   "cell_type": "code",
   "execution_count": 122,
   "metadata": {},
   "outputs": [
    {
     "data": {
      "text/plain": [
       "(['12345-6789', '23456-7891', '3489728'],\n",
       " ['12345-6789', '23456-7891', '3489728'])"
      ]
     },
     "execution_count": 122,
     "metadata": {},
     "output_type": "execute_result"
    }
   ],
   "source": [
    "acct_ids, sar1_accts"
   ]
  },
  {
   "cell_type": "code",
   "execution_count": 113,
   "metadata": {},
   "outputs": [
    {
     "data": {
      "text/plain": [
       "True"
      ]
     },
     "execution_count": 113,
     "metadata": {},
     "output_type": "execute_result"
    }
   ],
   "source": [
    "sar1_FIs[0] ==  FIs[1]"
   ]
  },
  {
   "cell_type": "code",
   "execution_count": 117,
   "metadata": {},
   "outputs": [
    {
     "ename": "TypeError",
     "evalue": "unhashable type: 'list'",
     "output_type": "error",
     "traceback": [
      "\u001b[1;31m---------------------------------------------------------------------------\u001b[0m",
      "\u001b[1;31mTypeError\u001b[0m                                 Traceback (most recent call last)",
      "Cell \u001b[1;32mIn[117], line 1\u001b[0m\n\u001b[1;32m----> 1\u001b[0m \u001b[43msar1_FIs\u001b[49m\u001b[43m \u001b[49m\u001b[38;5;129;43;01min\u001b[39;49;00m\u001b[43m \u001b[49m\u001b[38;5;28;43mset\u001b[39;49m\u001b[43m(\u001b[49m\u001b[43mFIs\u001b[49m\u001b[43m)\u001b[49m\n",
      "\u001b[1;31mTypeError\u001b[0m: unhashable type: 'list'"
     ]
    }
   ],
   "source": [
    "sar1_FIs in set(FIs)"
   ]
  },
  {
   "cell_type": "code",
   "execution_count": 115,
   "metadata": {},
   "outputs": [
    {
     "data": {
      "text/plain": [
       "['Bank of Anan']"
      ]
     },
     "execution_count": 115,
     "metadata": {},
     "output_type": "execute_result"
    }
   ],
   "source": [
    "sar1_FIs"
   ]
  },
  {
   "cell_type": "code",
   "execution_count": 114,
   "metadata": {},
   "outputs": [
    {
     "data": {
      "text/plain": [
       "['Dummy_Bank', 'Bank of Anan']"
      ]
     },
     "execution_count": 114,
     "metadata": {},
     "output_type": "execute_result"
    }
   ],
   "source": [
    "FIs"
   ]
  },
  {
   "cell_type": "code",
   "execution_count": 121,
   "metadata": {},
   "outputs": [
    {
     "data": {
      "text/plain": [
       "True"
      ]
     },
     "execution_count": 121,
     "metadata": {},
     "output_type": "execute_result"
    }
   ],
   "source": []
  },
  {
   "cell_type": "code",
   "execution_count": 146,
   "metadata": {},
   "outputs": [],
   "source": [
    "\n",
    "def test_sar(extracted,expected):\n",
    "\n",
    "    accts,customers,FIs, N_resolved_FIs, trxns_df = extracted\n",
    "    sar_accts,sar_customers,sar_FIs,sar_N_resolved_FIs,sar_N_trxns,sar_trxns = expected\n",
    "\n",
    "    sar_results = []\n",
    "    N_trxns = trxns_df.shape[0]\n",
    "    \n",
    "    \n",
    "    try:\n",
    "        #Ensure accts have been correctly extracted\n",
    "        assert set(accts) == set(sar_accts)\n",
    "        sar_results.append(\"Test on Accts passed\")\n",
    "    except AssertionError:\n",
    "        sar_results.append(f\"Test on Accts failed. Entities extracted do not match. Extracted: {accts} while Expected: {sar_accts}\")\n",
    "\n",
    "    try:\n",
    "        #Ensure FIs in SAR have  been correctly extracted\n",
    "        assert all(fi in FIs for fi in sar_FIs)\n",
    "        sar_results.append(\"Test on FIs passed\")\n",
    "    except AssertionError:\n",
    "        sar_results.append(f\"Test on FIs failed.  Extracted: {FIs} while Expected: {sar_FIs}\")\n",
    "\n",
    "    try:\n",
    "        #Ensure Customers have been correctly extracted\n",
    "        assert set(customers) == set(sar_customers)\n",
    "        sar_results.append(\"Test on Customers passed\")\n",
    "    except AssertionError:\n",
    "        sar_results.append(f\"Test on Customers failed.  Extracted: {customers} while Expected: {sar_customers}\")\n",
    "\n",
    "    try:\n",
    "        #Ensure Number of FIs have been extracted correctly\n",
    "        assert N_resolved_FIs == sar_N_resolved_FIs\n",
    "        sar_results.append(\"Test on Number of FIs passed\")\n",
    "    except AssertionError:\n",
    "        sar_results.append(f\"Test on Number of FIs failed. Extracted: {N_resolved_FIs} while Expected: {sar_N_resolved_FIs}\")\n",
    " \n",
    "    try:\n",
    "        #Ensure number of trxns are extracted correctly\n",
    "        assert N_trxns == sar_N_trxns\n",
    "        sar_results.append(\"Test on Number of Trxns passed\")\n",
    "    except AssertionError:\n",
    "        sar_results.append(f\"Test on Number of Trxns failed. . Extracted: {N_trxns} while Expected: {sar_N_trxns}\")\n",
    "\n",
    "    trxn_results = []\n",
    "    # Validate Trxns\n",
    "    for k,v in sar_trxns.items():\n",
    "        originator_acct_id,beneficary_act_id,channels, min_total_amt,max_total_amt,total_ct, min_ind_amt, max_ind_amt, min_date, max_date = v\n",
    "        trxns_df_ = trxns_df[(trxns_df[\"Originator_Account_ID\"]==originator_acct_id ) & (trxns_df[\"Beneficiary_Account_ID\"]==beneficary_act_id) ]\n",
    "        channels_ = set(trxns_df_[\"Trxn_Channel\"])\n",
    "        total_amt_ = trxns_df_[\"Trxn_Amount\"].sum()\n",
    "        min_ind_amt_ = trxns_df_[\"Trxn_Amount\"].min()\n",
    "        max_ind_amt_ = trxns_df_[\"Trxn_Amount\"].max()\n",
    "        min_date_ = trxns_df_[\"Trxn_Date\"].min()\n",
    "        max_date_ = trxns_df_[\"Trxn_Date\"].max()\n",
    "        try:\n",
    "             # Ensure Trxn Channels are  are extracted appropriately\n",
    "            assert all(channel in channels for channel in channels_)\n",
    "            trxn_results.append(f\"Test on Channels on  {k} passed\")\n",
    "        except AssertionError:\n",
    "            trxn_results.append(f\"Test on Channels on {k} failed. Extracted: {channels_} while Expected: {channels}\")\n",
    "        \n",
    "        try:\n",
    "             # Ensure Total Trxn Amount is extracted appropriately\n",
    "            assert  (total_amt_ >= min_total_amt) & (total_amt_ <= max_total_amt) \n",
    "            trxn_results.append(f\"Test on Total Amount on {k} passed\")\n",
    "        except AssertionError:\n",
    "            trxn_results.append(f\"Test on Total Amount on {k} failed. Extracted: {total_amt_} while Expected between {min_total_amt} and {max_total_amt}   \")\n",
    "\n",
    "        try:\n",
    "             # Ensure Individual Amounts are extracted appropriately\n",
    "            assert  (min_ind_amt_ >= min_ind_amt) & (max_ind_amt_ <= max_ind_amt) \n",
    "            trxn_results.append(f\"Test on Individual Amount on {k} passed\")\n",
    "        except AssertionError:\n",
    "            trxn_results.append(f\"Test on Individual Amount on {k} failed. Extracted: {(min_ind_amt_,max_ind_amt_)} while Expected between {(min_ind_amt,max_ind_amt)}   \")\n",
    "\n",
    "        try:\n",
    "            # Ensure Dates are extracted appropriately\n",
    "            assert  (min_date_ >= min_date) & (max_date_ <= max_date) \n",
    "            trxn_results.append(f\"Test on Trxn Dates on {k} passed\")\n",
    "        except AssertionError:\n",
    "            trxn_results.append(f\"Test on Trxn Dates on {k} failed. Extracted: {(min_date_,max_date_)} while Expected between {(min_date,max_date)}   \")\n",
    "\n",
    "\n",
    "    return sar_results, trxn_results\n",
    "\n",
    "   "
   ]
  },
  {
   "cell_type": "code",
   "execution_count": 147,
   "metadata": {},
   "outputs": [],
   "source": [
    "results1, results2 = test_sar(extracted,expected)"
   ]
  },
  {
   "cell_type": "code",
   "execution_count": 148,
   "metadata": {},
   "outputs": [
    {
     "data": {
      "text/plain": [
       "['Test on Accts passed',\n",
       " 'Test on FIs passed',\n",
       " 'Test on Customers passed',\n",
       " 'Test on Number of FIs passed',\n",
       " 'Test on Number of Trxns failed. . Extracted: 2 while Expected: 55']"
      ]
     },
     "execution_count": 148,
     "metadata": {},
     "output_type": "execute_result"
    }
   ],
   "source": [
    "results1\n"
   ]
  },
  {
   "cell_type": "code",
   "execution_count": 149,
   "metadata": {},
   "outputs": [
    {
     "data": {
      "text/plain": [
       "['Test on Channels on  Trxn_Set1 passed',\n",
       " 'Test on Total Amount on Trxn_Set1 failed. Extracted: 50000 while Expected between 225000 and 225000   ',\n",
       " 'Test on Individual Amount on Trxn_Set1 passed',\n",
       " 'Test on Trxn Dates on Trxn_Set1 passed',\n",
       " 'Test on Channels on  Trxn_Set2 passed',\n",
       " 'Test on Total Amount on Trxn_Set2 failed. Extracted: 0 while Expected between 250000 and 300000   ',\n",
       " 'Test on Individual Amount on Trxn_Set2 failed. Extracted: (nan, nan) while Expected between (4400, 10000)   ',\n",
       " 'Test on Trxn Dates on Trxn_Set2 failed. Extracted: (NaT, NaT) while Expected between (datetime.datetime(2003, 1, 2, 0, 0), datetime.datetime(2003, 3, 17, 0, 0))   ']"
      ]
     },
     "execution_count": 149,
     "metadata": {},
     "output_type": "execute_result"
    }
   ],
   "source": [
    "results2"
   ]
  },
  {
   "cell_type": "code",
   "execution_count": null,
   "metadata": {},
   "outputs": [],
   "source": []
  }
 ],
 "metadata": {
  "kernelspec": {
   "display_name": "Python 3",
   "language": "python",
   "name": "python3"
  },
  "language_info": {
   "codemirror_mode": {
    "name": "ipython",
    "version": 3
   },
   "file_extension": ".py",
   "mimetype": "text/x-python",
   "name": "python",
   "nbconvert_exporter": "python",
   "pygments_lexer": "ipython3",
   "version": "3.9.0"
  }
 },
 "nbformat": 4,
 "nbformat_minor": 2
}
